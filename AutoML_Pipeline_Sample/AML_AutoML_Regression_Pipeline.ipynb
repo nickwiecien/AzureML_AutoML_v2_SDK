{
 "cells": [
  {
   "cell_type": "markdown",
   "metadata": {},
   "source": [
    "# AutoML in pipeline\n",
    "\n",
    "**Requirements** - In order to benefit from this tutorial, you will need:\n",
    "- A basic understanding of Machine Learning\n",
    "- An Azure account with an active subscription - [Create an account for free](https://azure.microsoft.com/free/?WT.mc_id=A261C142F)\n",
    "- An Azure ML workspace with computer cluster - [Configure workspace](../../../configuration.ipynb)\n",
    "- A python environment\n",
    "- Installed Azure Machine Learning Python SDK v2 - [install instructions](../../../../README.md) - check the getting started section\n",
    "\n",
    "**Learning Objectives** - By the end of this tutorial, you should be able to:\n",
    "- Create a pipeline with Regression AutoML task.\n",
    "\n",
    "**Motivations** - This notebook explains how to use Regression AutoML task inside pipeline."
   ]
  },
  {
   "cell_type": "markdown",
   "metadata": {},
   "source": [
    "# 1. Connect to Azure Machine Learning Workspace\n",
    "\n",
    "The [workspace](https://docs.microsoft.com/en-us/azure/machine-learning/concept-workspace) is the top-level resource for Azure Machine Learning, providing a centralized place to work with all the artifacts you create when you use Azure Machine Learning. In this section we will connect to the workspace in which the job will be run.\n",
    "\n",
    "## 1.1 Import the required libraries"
   ]
  },
  {
   "cell_type": "code",
   "execution_count": null,
   "metadata": {},
   "outputs": [],
   "source": [
    "# import required libraries\n",
    "from azure.identity import DefaultAzureCredential, InteractiveBrowserCredential\n",
    "\n",
    "from azure.ai.ml import MLClient, Input, command, Output\n",
    "from azure.ai.ml.dsl import pipeline\n",
    "from azure.ai.ml.automl import classification, regression\n",
    "from azure.ai.ml.entities._job.automl.tabular import TabularFeaturizationSettings\n",
    "from azure.ai.ml.entities import (\n",
    "    ManagedOnlineEndpoint,\n",
    "    ManagedOnlineDeployment,\n",
    "    Model,\n",
    "    Environment,\n",
    "    CodeConfiguration,\n",
    "    BatchEndpoint, ModelBatchDeployment, ModelBatchDeploymentSettings\n",
    ")"
   ]
  },
  {
   "cell_type": "markdown",
   "metadata": {},
   "source": [
    "## 1.2 Configure credential\n",
    "\n",
    "We are using `DefaultAzureCredential` to get access to workspace. \n",
    "`DefaultAzureCredential` should be capable of handling most Azure SDK authentication scenarios. \n",
    "\n",
    "Reference for more available credentials if it does not work for you: [configure credential example](../../../configuration.ipynb), [azure-identity reference doc](https://docs.microsoft.com/en-us/python/api/azure-identity/azure.identity?view=azure-python)."
   ]
  },
  {
   "cell_type": "code",
   "execution_count": null,
   "metadata": {},
   "outputs": [],
   "source": [
    "try:\n",
    "    credential = DefaultAzureCredential()\n",
    "    # Check if given credential can get token successfully.\n",
    "    credential.get_token(\"https://management.azure.com/.default\")\n",
    "except Exception as ex:\n",
    "    # Fall back to InteractiveBrowserCredential in case DefaultAzureCredential not work\n",
    "    credential = InteractiveBrowserCredential()"
   ]
  },
  {
   "cell_type": "markdown",
   "metadata": {},
   "source": [
    "## 1.3 Get a handle to the workspace\n",
    "\n",
    "We use config file to connect to a workspace. The Azure ML workspace should be configured with computer cluster. [Check this notebook for configure a workspace](../../../configuration.ipynb)"
   ]
  },
  {
   "cell_type": "code",
   "execution_count": null,
   "metadata": {},
   "outputs": [],
   "source": [
    "# Get a handle to workspace\n",
    "ml_client = MLClient.from_config(credential=credential)\n",
    "\n",
    "# Retrieve an already attached Azure Machine Learning Compute.\n",
    "cluster_name = \"cpu-cluster\"\n",
    "print(ml_client.compute.get(cluster_name))"
   ]
  },
  {
   "cell_type": "markdown",
   "metadata": {},
   "source": [
    "## 2. Create Deployment Targets (Batch/Real-Time Endpoints)"
   ]
  },
  {
   "cell_type": "markdown",
   "metadata": {},
   "source": [
    "### 2.1 Create Managed Batch Endpoint"
   ]
  },
  {
   "cell_type": "code",
   "execution_count": null,
   "metadata": {},
   "outputs": [],
   "source": [
    "# Define an endpoint name\n",
    "endpoint_name = \"battery-rul-prediction-batch\"\n",
    "\n",
    "# create an online endpoint\n",
    "endpoint = BatchEndpoint(\n",
    "    name = endpoint_name, \n",
    "    description=\"Batch endpoint for predicting remaining useful battery life based on cycle telemetry\"\n",
    ")\n",
    "\n",
    "ml_client.batch_endpoints.begin_create_or_update(endpoint).result()"
   ]
  },
  {
   "cell_type": "markdown",
   "metadata": {},
   "source": [
    "### 2.2 Create Managed Real-Time Endpoint"
   ]
  },
  {
   "cell_type": "code",
   "execution_count": null,
   "metadata": {},
   "outputs": [],
   "source": [
    "# Define an endpoint name\n",
    "endpoint_name = \"battery-rul-prediction-rt\"\n",
    "\n",
    "# create an online endpoint\n",
    "endpoint = ManagedOnlineEndpoint(\n",
    "    name = endpoint_name, \n",
    "    description=\"Real-time HTTP endpoint for predicting remaining useful battery life based on cycle telemetry\",\n",
    "    auth_mode=\"key\"\n",
    ")\n",
    "\n",
    "ml_client.online_endpoints.begin_create_or_update(endpoint).result()"
   ]
  },
  {
   "cell_type": "markdown",
   "metadata": {},
   "source": [
    "# 3. Basic pipeline job with regression task\n",
    "\n",
    "## 3.1 Build pipeline"
   ]
  },
  {
   "cell_type": "code",
   "execution_count": null,
   "metadata": {},
   "outputs": [],
   "source": [
    "preprocessing_env = Environment(\n",
    "    image=\"mcr.microsoft.com/azureml/openmpi4.1.0-ubuntu20.04\",\n",
    "    conda_file=\"./environment/preprocessing_env.yaml\",\n",
    "    name=\"pipeline-custom-environment\",\n",
    "    description=\"Preprocessing environment created from a Docker image plus Conda environment.\",\n",
    ")\n",
    "ml_client.environments.create_or_update(preprocessing_env)\n",
    "\n",
    "\n",
    "evaluation_env = Environment(\n",
    "    image=\"mcr.microsoft.com/azureml/openmpi4.1.0-ubuntu20.04\",\n",
    "    conda_file=\"./environment/evaluation_env.yaml\",\n",
    "    name=\"pipeline-evaluation-environment\",\n",
    "    description=\"Evaluation environment created from a Docker image plus Conda environment.\",\n",
    ")\n",
    "ml_client.environments.create_or_update(evaluation_env)\n",
    "\n",
    "deployment_env = Environment(\n",
    "    image=\"mcr.microsoft.com/azureml/openmpi4.1.0-ubuntu20.04\",\n",
    "    conda_file=\"./environment/deployment_env.yaml\",\n",
    "    name=\"pipeline-deployment-environment\",\n",
    "    description=\"Deployment environment created from a Docker image plus Conda environment.\",\n",
    ")\n",
    "ml_client.environments.create_or_update(deployment_env)\n",
    "\n",
    "battery_model_env = Environment(\n",
    "    image=\"mcr.microsoft.com/azureml/openmpi4.1.0-ubuntu20.04\",\n",
    "    conda_file=\"./environment/reusable_model_env.yaml\",\n",
    "    name=\"battery-model-deployment-environment\",\n",
    "    description=\"Model deployment environment created from a Docker image plus Conda environment.\",\n",
    ")\n",
    "ml_client.environments.create_or_update(battery_model_env)"
   ]
  },
  {
   "cell_type": "code",
   "execution_count": null,
   "metadata": {},
   "outputs": [],
   "source": [
    "# Define pipeline\n",
    "@pipeline(\n",
    "    description=\"AutoML Regression Pipeline\",\n",
    ")\n",
    "def automl_regression(\n",
    "    regression_train_data, regression_validation_data, regression_test_data, model_base_name\n",
    "):\n",
    "    \n",
    "    # define command function for preprocessing the model\n",
    "    preprocessing_command_func = command(\n",
    "        inputs=dict(\n",
    "            delta_table='abfss://mldata@honadlsgen2demo.dfs.core.windows.net/battery_cycle_rul_data'\n",
    "        ),\n",
    "        outputs=dict(\n",
    "            preprocessed_train_data=Output(type=\"mltable\"),\n",
    "            preprocessed_test_data=Output(type=\"mltable\"),\n",
    "        ),\n",
    "        code=\"./preprocess.py\",\n",
    "        command=\"python preprocess.py \"\n",
    "        + \"--delta_table ${{inputs.delta_table}} \"\n",
    "        + \"--preprocessed_train_data ${{outputs.preprocessed_train_data}} \"\n",
    "        + \"--preprocessed_test_data ${{outputs.preprocessed_test_data}}\",\n",
    "        environment=\"pipeline-custom-environment@latest\",\n",
    "        display_name='Get and Split Data'\n",
    "    )\n",
    "    preprocess_node = preprocessing_command_func()\n",
    "\n",
    "    # define the AutoML regression task with AutoML function\n",
    "    regression_node = regression(\n",
    "        primary_metric=\"r2_score\",\n",
    "        target_column_name=\"RUL\",\n",
    "        training_data=preprocess_node.outputs.preprocessed_train_data,\n",
    "        test_data=preprocess_node.outputs.preprocessed_test_data,\n",
    "        featurization=TabularFeaturizationSettings(mode=\"auto\"),\n",
    "        # currently need to specify outputs \"mlflow_model\" explicitly to reference it in following nodes\n",
    "        outputs={\"best_model\": Output(type=\"mlflow_model\")},\n",
    "        display_name='Train Models'\n",
    "    )\n",
    "    # set limits & training\n",
    "    regression_node.set_limits(max_trials=20, max_concurrent_trials=4)\n",
    "    regression_node.set_training(\n",
    "        enable_stack_ensemble=False, enable_vote_ensemble=False, enable_model_explainability=True\n",
    "    )\n",
    "    \n",
    "    # define command function for evaluating the newly trained model (champion v. challenger test)\n",
    "    evaluate_func = command(\n",
    "        inputs=dict(\n",
    "            model_input_path=Input(type=\"mlflow_model\"),\n",
    "            model_base_name='Battery_Cycle_RUL_Prediction_Model',\n",
    "            test_data=Input(type=\"mltable\"),\n",
    "            target_column='RUL'\n",
    "        ),\n",
    "        outputs=dict(\n",
    "             comparison_metrics=Output(type=\"uri_folder\"),\n",
    "        ),\n",
    "        code=\"./evaluate.py\",\n",
    "        command=\"python evaluate.py \"\n",
    "        + \"--model_input_path ${{inputs.model_input_path}} \"\n",
    "        + \"--model_base_name ${{inputs.model_base_name}} \"\n",
    "        + \"--test_data ${{inputs.test_data}} \"\n",
    "        + \"--target_column ${{inputs.target_column}} \"\n",
    "        + \"--comparison_metrics ${{outputs.comparison_metrics}}\",\n",
    "        environment=\"pipeline-evaluation-environment@latest\",\n",
    "        display_name='Evaluate Model (Champion vs. Challenger)'\n",
    "    )\n",
    "    evaluate_model = evaluate_func(test_data=preprocess_node.outputs.preprocessed_test_data, model_input_path=regression_node.outputs.best_model)\n",
    "\n",
    "    # define command function for registering the model\n",
    "    command_func = command(\n",
    "        inputs=dict(\n",
    "            model_input_path=Input(type=\"mlflow_model\"),\n",
    "            model_base_name='Battery_Cycle_RUL_Prediction_Model',\n",
    "            comparison_metrics=Input(type=\"uri_folder\"),\n",
    "        ),\n",
    "        outputs=dict(\n",
    "            registered_model_details=Output(type=\"uri_folder\")\n",
    "        ),\n",
    "        code=\"./register.py\",\n",
    "        command=\"python register.py \"\n",
    "        + \"--model_input_path ${{inputs.model_input_path}} \"\n",
    "        + \"--model_base_name ${{inputs.model_base_name}} \"\n",
    "        + \"--registered_model_details ${{outputs.registered_model_details}} \"\n",
    "        + \"--comparison_metrics ${{inputs.comparison_metrics}} \",\n",
    "        environment=\"AzureML-sklearn-1.0-ubuntu20.04-py38-cpu:1\",\n",
    "        display_name='Register Model'\n",
    "    )\n",
    "    register_model = command_func(model_input_path=regression_node.outputs.best_model, comparison_metrics=evaluate_model.outputs.comparison_metrics)\n",
    "\n",
    "    deploy_batch_func = command(\n",
    "        inputs=dict(\n",
    "            model_base_name='Battery_Cycle_RUL_Prediction_Model',\n",
    "            endpoint_name='battery-rul-prediction-batch',\n",
    "            registered_model_details=Input(type=\"uri_folder\")\n",
    "        ),\n",
    "        code=\"./deploy_batch.py\",\n",
    "        command=\"python deploy_batch.py \"\n",
    "        + \"--model_base_name ${{inputs.model_base_name}} \"\n",
    "        + \"--registered_model_details ${{inputs.registered_model_details}} \"\n",
    "        + \"--endpoint_name ${{inputs.endpoint_name}} \",\n",
    "        environment=\"pipeline-deployment-environment@latest\",\n",
    "        display_name='Update Batch Deployment'\n",
    "    )\n",
    "    deploy_batch = deploy_batch_func(registered_model_details=register_model.outputs.registered_model_details)\n",
    "    \n",
    "    \n",
    "    deploy_rt_func = command(\n",
    "        inputs=dict(\n",
    "            model_base_name='Battery_Cycle_RUL_Prediction_Model',\n",
    "            endpoint_name='battery-rul-prediction-rt',\n",
    "            registered_model_details=Input(type=\"uri_folder\")\n",
    "        ),\n",
    "        code=\"./deploy_real_time.py\",\n",
    "        command=\"python deploy_real_time.py \"\n",
    "        + \"--model_base_name ${{inputs.model_base_name}} \"\n",
    "        + \"--registered_model_details ${{inputs.registered_model_details}} \"\n",
    "        + \"--endpoint_name ${{inputs.endpoint_name}} \",\n",
    "        environment=\"pipeline-deployment-environment@latest\",\n",
    "        display_name='Update Real-Time Deployment'\n",
    "    )\n",
    "    deploy_rt = deploy_rt_func(registered_model_details=register_model.outputs.registered_model_details)\n",
    "\n",
    "\n",
    "pipeline_regression = automl_regression()\n",
    "\n",
    "# set pipeline level compute\n",
    "pipeline_regression.settings.default_compute = \"cpu-cluster\""
   ]
  },
  {
   "cell_type": "markdown",
   "metadata": {},
   "source": [
    "# 3.2 Submit pipeline job"
   ]
  },
  {
   "cell_type": "code",
   "execution_count": null,
   "metadata": {},
   "outputs": [],
   "source": [
    "# submit the pipeline job\n",
    "pipeline_job = ml_client.jobs.create_or_update(\n",
    "    pipeline_regression, experiment_name=\"pipeline_samples\"\n",
    ")\n",
    "pipeline_job"
   ]
  },
  {
   "cell_type": "code",
   "execution_count": null,
   "metadata": {},
   "outputs": [],
   "source": [
    "# Wait until the job completes\n",
    "ml_client.jobs.stream(pipeline_job.name)"
   ]
  },
  {
   "cell_type": "markdown",
   "metadata": {},
   "source": [
    "## 4. Testing"
   ]
  },
  {
   "cell_type": "markdown",
   "metadata": {},
   "source": [
    "### 4.1 Invoke real-time endpoint\n",
    "\n",
    "Run this cell after your pipeline execution has completed"
   ]
  },
  {
   "cell_type": "code",
   "execution_count": null,
   "metadata": {},
   "outputs": [],
   "source": [
    "import requests\n",
    "import json\n",
    "\n",
    "rt_endpoint_name = 'battery-rul-prediction-rt'\n",
    "rt_endpoint = ml_client.online_endpoints.get(rt_endpoint_name)\n",
    "scoring_uri = rt_endpoint.scoring_uri\n",
    "auth_key = ml_client.online_endpoints.get_keys(name=rt_endpoint_name).primary_key\n",
    "\n",
    "headers = {'Content-Type':'application/json', 'Authorization':('Bearer '+ auth_key)}\n",
    "sample_data = {\n",
    "  \"input_data\": {\n",
    "    \"columns\": [\n",
    "      'Discharge Time (s)', 'Decrement 3.6-3.4V (s)', 'Max. Voltage Dischar. (V)', 'Min. Voltage Charg. (V)', 'Time at 4.15V (s)', 'Time constant current (s)', 'Charging time (s)', 'Total time (s)'\n",
    "    ],\n",
    "    \"data\": [[2652.99, 1364.991, 3.652, 3.233, 5340.993, 6664, 11018.02, 14949.34]]\n",
    "  }\n",
    "}\n",
    "\n",
    "resp = requests.post(scoring_uri, headers=headers, data=json.dumps(sample_data))\n",
    "resp.json()"
   ]
  },
  {
   "cell_type": "markdown",
   "metadata": {},
   "source": [
    "# Next Steps\n",
    "You can see further examples of running a pipeline job [here](../)\n",
    "\n",
    "- [Invoke your batch endpoint and access results](https://learn.microsoft.com/en-us/azure/machine-learning/how-to-use-batch-model-deployments?view=azureml-api-2&tabs=python#run-batch-endpoints-and-access-results)\n",
    "- [Perform continuous monitoring of models in production](https://learn.microsoft.com/en-us/azure/machine-learning/how-to-monitor-model-performance?view=azureml-api-2&tabs=python)"
   ]
  }
 ],
 "metadata": {
  "description": {
   "description": "Create pipeline with automl node"
  },
  "kernelspec": {
   "display_name": "Python 3.10 - SDK v2",
   "language": "python",
   "name": "python310-sdkv2"
  },
  "language_info": {
   "codemirror_mode": {
    "name": "ipython",
    "version": 3
   },
   "file_extension": ".py",
   "mimetype": "text/x-python",
   "name": "python",
   "nbconvert_exporter": "python",
   "pygments_lexer": "ipython3",
   "version": "3.10.11"
  },
  "vscode": {
   "interpreter": {
    "hash": "a3e1ce86190527341b095dce2d981b591205330162e59d5b85eea3038817dc05"
   }
  }
 },
 "nbformat": 4,
 "nbformat_minor": 4
}
